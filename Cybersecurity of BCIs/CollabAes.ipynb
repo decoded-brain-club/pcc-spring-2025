{
  "nbformat": 4,
  "nbformat_minor": 0,
  "metadata": {
    "colab": {
      "provenance": []
    },
    "kernelspec": {
      "name": "python3",
      "display_name": "Python 3"
    },
    "language_info": {
      "name": "python"
    }
  },
  "cells": [
    {
      "cell_type": "code",
      "source": [
        "pip install pyaes"
      ],
      "metadata": {
        "colab": {
          "base_uri": "https://localhost:8080/"
        },
        "id": "TGiZgTyW7rZK",
        "outputId": "3b2cff89-36b2-4262-97e7-a00e788a9bd8"
      },
      "execution_count": null,
      "outputs": [
        {
          "output_type": "stream",
          "name": "stdout",
          "text": [
            "Collecting pyaes\n",
            "  Downloading pyaes-1.6.1.tar.gz (28 kB)\n",
            "  Preparing metadata (setup.py) ... \u001b[?25l\u001b[?25hdone\n",
            "Building wheels for collected packages: pyaes\n",
            "  Building wheel for pyaes (setup.py) ... \u001b[?25l\u001b[?25hdone\n",
            "  Created wheel for pyaes: filename=pyaes-1.6.1-py3-none-any.whl size=26346 sha256=2ec4a2dd541416bf91cca87a89b1838f75ea527666452429a3fef19f97252fc4\n",
            "  Stored in directory: /root/.cache/pip/wheels/4e/52/33/010d0843550bffb6a591b11629070ae140c0ad4f53e68a3bd3\n",
            "Successfully built pyaes\n",
            "Installing collected packages: pyaes\n",
            "Successfully installed pyaes-1.6.1\n"
          ]
        }
      ]
    },
    {
      "cell_type": "code",
      "source": [
        "pip install pbkdf2"
      ],
      "metadata": {
        "colab": {
          "base_uri": "https://localhost:8080/"
        },
        "id": "3YJaQJDI72DP",
        "outputId": "367239ce-cb4d-4e42-c46c-4e189a48bb6b"
      },
      "execution_count": null,
      "outputs": [
        {
          "output_type": "stream",
          "name": "stdout",
          "text": [
            "Collecting pbkdf2\n",
            "  Downloading pbkdf2-1.3.tar.gz (6.4 kB)\n",
            "  Preparing metadata (setup.py) ... \u001b[?25l\u001b[?25hdone\n",
            "Building wheels for collected packages: pbkdf2\n",
            "  Building wheel for pbkdf2 (setup.py) ... \u001b[?25l\u001b[?25hdone\n",
            "  Created wheel for pbkdf2: filename=pbkdf2-1.3-py3-none-any.whl size=5082 sha256=fb192edb1619de96bf16e052965116b3a0d886f82ad97165f020ad05139f39df\n",
            "  Stored in directory: /root/.cache/pip/wheels/72/15/2c/6ed49942a07c12003206432edb16ae9ab09cf1d62a58a1db64\n",
            "Successfully built pbkdf2\n",
            "Installing collected packages: pbkdf2\n",
            "Successfully installed pbkdf2-1.3\n"
          ]
        }
      ]
    },
    {
      "cell_type": "code",
      "execution_count": null,
      "metadata": {
        "colab": {
          "base_uri": "https://localhost:8080/"
        },
        "id": "_v8NV4s57UEu",
        "outputId": "33fccfef-ec96-4fcd-ed70-2327f9a82219"
      },
      "outputs": [
        {
          "output_type": "stream",
          "name": "stdout",
          "text": [
            "AES encryption key: b'810d9fb1e5fa0675c6a24f0674d8812e3c56c4c95bdf2982da820de54e301835'\n"
          ]
        }
      ],
      "source": [
        "import pyaes, pbkdf2, binascii, os, secrets\n",
        "\n",
        "# Derive a 256-bit AES encryption key from the password\n",
        "password = \"s3cr3t*c0d3\"\n",
        "passwordSalt = os.urandom(16)\n",
        "key = pbkdf2.PBKDF2(password, passwordSalt).read(32)\n",
        "print('AES encryption key:', binascii.hexlify(key))"
      ]
    },
    {
      "cell_type": "code",
      "source": [
        "# Encrypt the plaintext with the given key:\n",
        "#   ciphertext = AES-256-CTR-Encrypt(plaintext, key, iv)\n",
        "iv = secrets.randbits(256)\n",
        "plaintext = \"This is tha security log for Jamaal's laptop. Tread lightly.\"\n",
        "aes = pyaes.AESModeOfOperationCTR(key, pyaes.Counter(iv))\n",
        "ciphertext = aes.encrypt(plaintext)\n",
        "print('Encrypted:', binascii.hexlify(ciphertext))"
      ],
      "metadata": {
        "colab": {
          "base_uri": "https://localhost:8080/"
        },
        "id": "hH-VSwH57qTg",
        "outputId": "63939e40-6cfc-4a6c-9bc4-6cb5edff4703"
      },
      "execution_count": null,
      "outputs": [
        {
          "output_type": "stream",
          "name": "stdout",
          "text": [
            "Encrypted: b'994850426eacf31ba3f16814afc4a0de977be1a8c8f9fc53cefad8358fed8c07a7f4279d6ae2ed4ee046f954ce84b5847aee0048a3e4f91825569c38'\n"
          ]
        }
      ]
    },
    {
      "cell_type": "code",
      "source": [
        "# Decrypt the ciphertext with the given key:\n",
        "#   plaintext = AES-256-CTR-Decrypt(ciphertext, key, iv)\n",
        "aes = pyaes.AESModeOfOperationCTR(key, pyaes.Counter(iv))\n",
        "decrypted = aes.decrypt(ciphertext)\n",
        "print('Decrypted:', decrypted)"
      ],
      "metadata": {
        "colab": {
          "base_uri": "https://localhost:8080/"
        },
        "id": "_PVvKY6Q87ja",
        "outputId": "28fefe69-aae0-4541-b745-e09d6f715745"
      },
      "execution_count": null,
      "outputs": [
        {
          "output_type": "stream",
          "name": "stdout",
          "text": [
            "Decrypted: b\"This is tha security log for Jamaal's laptop. Tread lightly.\"\n"
          ]
        }
      ]
    },
    {
      "cell_type": "code",
      "source": [
        "pip install pycryptodome"
      ],
      "metadata": {
        "colab": {
          "base_uri": "https://localhost:8080/"
        },
        "id": "hURFc-j0-dr1",
        "outputId": "b367788f-0c13-478a-9a83-7643b7fa81e7"
      },
      "execution_count": 6,
      "outputs": [
        {
          "output_type": "stream",
          "name": "stdout",
          "text": [
            "Collecting pycryptodome\n",
            "  Downloading pycryptodome-3.21.0-cp36-abi3-manylinux_2_17_x86_64.manylinux2014_x86_64.whl.metadata (3.4 kB)\n",
            "Downloading pycryptodome-3.21.0-cp36-abi3-manylinux_2_17_x86_64.manylinux2014_x86_64.whl (2.3 MB)\n",
            "\u001b[?25l   \u001b[90m━━━━━━━━━━━━━━━━━━━━━━━━━━━━━━━━━━━━━━━━\u001b[0m \u001b[32m0.0/2.3 MB\u001b[0m \u001b[31m?\u001b[0m eta \u001b[36m-:--:--\u001b[0m\r\u001b[2K   \u001b[91m━━━\u001b[0m\u001b[91m╸\u001b[0m\u001b[90m━━━━━━━━━━━━━━━━━━━━━━━━━━━━━━━━━━━━\u001b[0m \u001b[32m0.2/2.3 MB\u001b[0m \u001b[31m6.1 MB/s\u001b[0m eta \u001b[36m0:00:01\u001b[0m\r\u001b[2K   \u001b[91m━━━━━━━━━━━━━━━━━━━━━━━━━━━━━━━━━━━━━━━\u001b[0m\u001b[91m╸\u001b[0m \u001b[32m2.3/2.3 MB\u001b[0m \u001b[31m34.0 MB/s\u001b[0m eta \u001b[36m0:00:01\u001b[0m\r\u001b[2K   \u001b[90m━━━━━━━━━━━━━━━━━━━━━━━━━━━━━━━━━━━━━━━━\u001b[0m \u001b[32m2.3/2.3 MB\u001b[0m \u001b[31m28.3 MB/s\u001b[0m eta \u001b[36m0:00:00\u001b[0m\n",
            "\u001b[?25hInstalling collected packages: pycryptodome\n",
            "Successfully installed pycryptodome-3.21.0\n"
          ]
        }
      ]
    },
    {
      "cell_type": "code",
      "source": [
        "from Crypto.Cipher import AES\n",
        "import binascii, os\n",
        "\n",
        "def encrypt_AES_GCM(msg, secretKey):\n",
        "    aesCipher = AES.new(secretKey, AES.MODE_GCM)\n",
        "    ciphertext, authTag = aesCipher.encrypt_and_digest(msg)\n",
        "    return (ciphertext, aesCipher.nonce, authTag)\n",
        "\n",
        "def decrypt_AES_GCM(encryptedMsg, secretKey):\n",
        "    (ciphertext, nonce, authTag) = encryptedMsg\n",
        "    aesCipher = AES.new(secretKey, AES.MODE_GCM, nonce)\n",
        "    plaintext = aesCipher.decrypt_and_verify(ciphertext, authTag)\n",
        "    return plaintext\n",
        "\n",
        "secretKey = os.urandom(32)  # 256-bit random encryption key\n",
        "print(\"Encryption key:\", binascii.hexlify(secretKey))\n",
        "\n",
        "msg = b'This is the security log for Jamaals laptop. Tread lightly.'\n",
        "encryptedMsg = encrypt_AES_GCM(msg, secretKey)\n",
        "print(\"encryptedMsg\", {\n",
        "    'ciphertext': binascii.hexlify(encryptedMsg[0]),\n",
        "    'aesIV': binascii.hexlify(encryptedMsg[1]),\n",
        "    'authTag': binascii.hexlify(encryptedMsg[2])\n",
        "})\n",
        "\n",
        "decryptedMsg = decrypt_AES_GCM(encryptedMsg, secretKey)\n",
        "print(\"decryptedMsg\", decryptedMsg)"
      ],
      "metadata": {
        "colab": {
          "base_uri": "https://localhost:8080/"
        },
        "id": "OOeGSk-0-rrp",
        "outputId": "22e33582-34ee-45e9-c303-b9e6d2fed05a"
      },
      "execution_count": 7,
      "outputs": [
        {
          "output_type": "stream",
          "name": "stdout",
          "text": [
            "Encryption key: b'ff3894c993c4ba2ab0c641b845f26e0973a70601fafcff54f9fb353bf926e7ce'\n",
            "encryptedMsg {'ciphertext': b'1f85875ec86d3462d3bc2edf5927dfb7f3d632673e3c88a5f4e3a0e50ba146409e16559beec21a7f1f4ccd3d69874c58ea45ca90c1138013b6affb', 'aesIV': b'417c763ebeabc81e8fd8c4ee76540af5', 'authTag': b'3fb771237e951d4302e1f8162a571d18'}\n",
            "decryptedMsg b'This is the security log for Jamaals laptop. Tread lightly.'\n"
          ]
        }
      ]
    },
    {
      "cell_type": "code",
      "source": [
        "pip install scrypt"
      ],
      "metadata": {
        "colab": {
          "base_uri": "https://localhost:8080/"
        },
        "id": "U9rB8AxWz3kq",
        "outputId": "07b43042-cf1a-47f8-8708-1bb66c57bc6e"
      },
      "execution_count": 8,
      "outputs": [
        {
          "output_type": "stream",
          "name": "stdout",
          "text": [
            "Requirement already satisfied: scrypt in /usr/local/lib/python3.11/dist-packages (0.8.27)\n"
          ]
        }
      ]
    },
    {
      "cell_type": "code",
      "source": [
        "pip install AES"
      ],
      "metadata": {
        "colab": {
          "base_uri": "https://localhost:8080/"
        },
        "id": "pLv0zzjh0Q6g",
        "outputId": "812eb490-a35d-46e6-9ffc-d1c67d02a418"
      },
      "execution_count": 9,
      "outputs": [
        {
          "output_type": "stream",
          "name": "stdout",
          "text": [
            "Requirement already satisfied: AES in /usr/local/lib/python3.11/dist-packages (1.2.0)\n"
          ]
        }
      ]
    },
    {
      "cell_type": "code",
      "source": [
        "pip install Crypto.Cipher"
      ],
      "metadata": {
        "id": "2496Z8XZ0c5k"
      },
      "execution_count": null,
      "outputs": []
    },
    {
      "cell_type": "code",
      "source": [
        "from Crypto.Cipher import AES\n",
        "import scrypt, os, binascii\n",
        "\n",
        "def encrypt_AES_GCM(msg, password):\n",
        "    kdfSalt = os.urandom(16)\n",
        "    secretKey = scrypt.hash(password, kdfSalt, N=16384, r=8, p=1, buflen=32)\n",
        "    aesCipher = AES.new(secretKey, AES.MODE_GCM)\n",
        "    ciphertext, authTag = aesCipher.encrypt_and_digest(msg)\n",
        "    return (kdfSalt, ciphertext, aesCipher.nonce, authTag)\n",
        "\n",
        "def decrypt_AES_GCM(encryptedMsg, password):\n",
        "    (kdfSalt, ciphertext, nonce, authTag) = encryptedMsg\n",
        "    secretKey = scrypt.hash(password, kdfSalt, N=16384, r=8, p=1, buflen=32)\n",
        "    aesCipher = AES.new(secretKey, AES.MODE_GCM, nonce)\n",
        "    plaintext = aesCipher.decrypt_and_verify(ciphertext, authTag)\n",
        "    return plaintext\n",
        "\n",
        "msg = b'Message for AES-256-GCM + Scrypt encryption'\n",
        "password = b's3kr3tp4ssw0rd'\n",
        "encryptedMsg = encrypt_AES_GCM(msg, password)\n",
        "print(\"encryptedMsg\", {\n",
        "    'kdfSalt': binascii.hexlify(encryptedMsg[0]),\n",
        "    'ciphertext': binascii.hexlify(encryptedMsg[1]),\n",
        "    'aesIV': binascii.hexlify(encryptedMsg[2]),\n",
        "    'authTag': binascii.hexlify(encryptedMsg[3])\n",
        "})\n",
        "\n",
        "decryptedMsg = decrypt_AES_GCM(encryptedMsg, password)\n",
        "print(\"decryptedMsg\", decryptedMsg)"
      ],
      "metadata": {
        "colab": {
          "base_uri": "https://localhost:8080/"
        },
        "id": "3m0H0XB6_n4i",
        "outputId": "8e46f41f-3c28-465d-e26e-002a57afa0f2"
      },
      "execution_count": 10,
      "outputs": [
        {
          "output_type": "stream",
          "name": "stdout",
          "text": [
            "encryptedMsg {'kdfSalt': b'f7030ee762b475fca30dd213fdcce50c', 'ciphertext': b'79d32fbf032a3c5f16d0cb2a3ffb279af0b888cc9e189c22c7f78227cca24426180c6450c2217d670d7c05', 'aesIV': b'fe18c1e8afc9dc2cd23c5d04b6e63867', 'authTag': b'a034415070a3c06fba1a4639a4555e85'}\n",
            "decryptedMsg b'Message for AES-256-GCM + Scrypt encryption'\n"
          ]
        }
      ]
    }
  ]
}